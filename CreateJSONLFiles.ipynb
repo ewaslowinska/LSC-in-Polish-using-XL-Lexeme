{
 "cells": [
  {
   "cell_type": "code",
   "execution_count": 1,
   "metadata": {},
   "outputs": [],
   "source": [
    "import pickle\n",
    "import re\n",
    "from tqdm import tqdm\n",
    "import json"
   ]
  },
  {
   "cell_type": "code",
   "execution_count": 13,
   "metadata": {},
   "outputs": [],
   "source": [
    "with open('C1_random_sentences.pickle', 'rb') as f:\n",
    "    C1_random_sentences = pickle.load(f)"
   ]
  },
  {
   "cell_type": "code",
   "execution_count": 3,
   "metadata": {},
   "outputs": [],
   "source": [
    "with open('C2_random_sentences.pickle', 'rb') as f:\n",
    "    C2_random_sentences = pickle.load(f)"
   ]
  },
  {
   "cell_type": "code",
   "execution_count": 14,
   "metadata": {},
   "outputs": [],
   "source": [
    "def create_jsonl_list(sentences):\n",
    "    jsonl_list = []\n",
    "    total_values = sum(len(lst) for lst in sentences.values())\n",
    "    with tqdm(total=total_values) as pbar:\n",
    "        for key, values in sentences.items():\n",
    "            for value in values:\n",
    "                diction = {}\n",
    "                path = re.sub('ann_morphosyntax', 'text_structure', value[2])\n",
    "                with open(path, 'r') as f:\n",
    "                    unfinished = False\n",
    "                    sentence = ''\n",
    "                    for line in f:\n",
    "                        sen = re.search(r'<u xml:id=\"(u-[0-9]*.[0-9]*)\" who=\"#[A-Za-zżźćńółęąśŻŹĆĄŚĘŁÓŃ0-9,()?:!—%\\\"\\'$#^&\\*+=\\[\\]\\{\\}\\/;. -]*\">([A-Za-zżźćńółęąśŻŹĆĄŚĘŁÓŃ0-9,()?:!—%\\\"\\'$#^&\\*+=\\[\\]\\{\\}\\/;. -„”]*)<\\/u>', line)\n",
    "                        if sen != None:\n",
    "                            n = sen.group(1)\n",
    "                            s = sen.group(2)\n",
    "                            if unfinished == False:\n",
    "                                if s.endswith('.') and value[1] in n:\n",
    "                                    sentence += (' ' + s)\n",
    "                                    separate = re.findall(r'[A-Za-zżźćńółęąśŻŹĆĄŚĘŁÓŃ0-9,()?:!—%\\\"\\'$#^&\\*+=\\[\\]\\{\\}\\/;„” -]*\\.*', sentence)\n",
    "                                    for match in separate:\n",
    "                                        if value[0] in match:\n",
    "                                            m = re.sub(r'\\s\\([^)]*\\)', '', match)\n",
    "                                            diction['sentence'] = m.lstrip()\n",
    "                                            i = 0\n",
    "                                            w = 0\n",
    "                                            for word in re.findall(r'\\w+|[^\\w\\s]', m.lstrip()):\n",
    "                                                if word != value[0] and word != ('„' or '”' or ':' or '.' or ',' or '%'):\n",
    "                                                    w += 1\n",
    "                                                    i += len(word)\n",
    "                                                if word != value[0] and word == ('„' or '”' or ':' or '.' or ',' or '%'):\n",
    "                                                    i += len(word)\n",
    "                                                else:\n",
    "                                                    w += 1\n",
    "                                                    first = i + w - 1\n",
    "                                                    break\n",
    "                                            diction['first_index'] = first\n",
    "                                            diction['last_index'] = first + len(value[0]) - 1\n",
    "                                            diction['lemma'] = key\n",
    "                                            jsonl_list.append(diction)\n",
    "                                            pbar.update(1)\n",
    "                                            break\n",
    "                                    break\n",
    "                                elif not s.endswith('.') and value[1] in n:\n",
    "                                    sentence += s\n",
    "                                    unfinished = True\n",
    "                            else:\n",
    "                                if s.endswith('.'):\n",
    "                                    sentence += (' ' + s)\n",
    "                                    separate = re.findall(r'[A-Za-zżźćńółęąśŻŹĆĄŚĘŁÓŃ0-9,()?:!—%\\\"\\'$#^&\\*+=\\[\\]\\{\\}\\/;„” -]*\\.*', sentence)\n",
    "                                    for match in separate:\n",
    "                                        if value[0] in match:\n",
    "                                            m = re.sub(r'\\s*\\([^)]*\\)', '', match)\n",
    "                                            diction['sentence'] = m.lstrip()\n",
    "                                            i = 0\n",
    "                                            w = 0\n",
    "                                            for word in re.findall(r'\\w+|[^\\w\\s]', m.lstrip()):\n",
    "                                                if word != value[0] and word != ('„' or '”' or ':' or '.' or ',' or '%'):\n",
    "                                                    w += 1\n",
    "                                                    i += len(word)\n",
    "                                                if word != value[0] and word == ('„' or '”' or ':' or '.' or ',' or '%'):\n",
    "                                                    i += len(word)\n",
    "                                                else:\n",
    "                                                    w += 1\n",
    "                                                    first = i + w - 1\n",
    "                                                    break\n",
    "                                            diction['first_index'] = first\n",
    "                                            diction['last_index'] = first + len(value[0]) - 1\n",
    "                                            diction['lemma'] = key\n",
    "                                            jsonl_list.append(diction)\n",
    "                                            pbar.update(1)\n",
    "                                            break\n",
    "                                    break\n",
    "                                else:\n",
    "                                    sentence += (' ' + s)\n",
    "                pbar.update(1)\n",
    "    return jsonl_list"
   ]
  },
  {
   "cell_type": "code",
   "execution_count": 15,
   "metadata": {},
   "outputs": [
    {
     "name": "stderr",
     "output_type": "stream",
     "text": [
      "642766it [06:39, 1608.10it/s]                            \n"
     ]
    }
   ],
   "source": [
    "C1_jsonl_list = create_jsonl_list(C1_random_sentences)"
   ]
  },
  {
   "cell_type": "code",
   "execution_count": 16,
   "metadata": {},
   "outputs": [],
   "source": [
    "sorted_list = sorted(C1_jsonl_list, key=lambda x: x[\"lemma\"])\n",
    "grouped_lists = {}\n",
    "for d in sorted_list:\n",
    "    lemma_value = d[\"lemma\"]\n",
    "    if lemma_value not in grouped_lists:\n",
    "        grouped_lists[lemma_value] = [d]\n",
    "    else:\n",
    "        grouped_lists[lemma_value].append(d)\n",
    "\n",
    "separate_lists = list(grouped_lists.values())\n",
    "\n",
    "for group in separate_lists:\n",
    "    json_object = json.dumps(group)\n",
    "    filename = f\"JSONL/{group[0]['lemma']}.jsonl\"\n",
    "    with open(filename, \"w\") as outfile:\n",
    "        outfile.write(json_object)"
   ]
  },
  {
   "cell_type": "code",
   "execution_count": 21,
   "metadata": {},
   "outputs": [
    {
     "name": "stderr",
     "output_type": "stream",
     "text": [
      "643183it [21:09, 506.68it/s]                            \n"
     ]
    }
   ],
   "source": [
    "C2_jsonl_list = create_jsonl_list(C2_random_sentences)"
   ]
  },
  {
   "cell_type": "code",
   "execution_count": 22,
   "metadata": {},
   "outputs": [],
   "source": [
    "sorted_list1 = sorted(C2_jsonl_list, key=lambda x: x[\"lemma\"])\n",
    "grouped_lists1 = {}\n",
    "for d in sorted_list1:\n",
    "    lemma_value = d[\"lemma\"]\n",
    "    if lemma_value not in grouped_lists1:\n",
    "        grouped_lists1[lemma_value] = [d]\n",
    "    else:\n",
    "        grouped_lists1[lemma_value].append(d)\n",
    "\n",
    "separate_lists1 = list(grouped_lists1.values())\n",
    "\n",
    "for group in separate_lists1:\n",
    "    json_object = json.dumps(group)\n",
    "    filename = f\"JSONL1/{group[0]['lemma']}.jsonl\"\n",
    "    with open(filename, \"w\") as outfile:\n",
    "        outfile.write(json_object)"
   ]
  }
 ],
 "metadata": {
  "kernelspec": {
   "display_name": "Python 3 (ipykernel)",
   "language": "python",
   "name": "python3"
  },
  "orig_nbformat": 4
 },
 "nbformat": 4,
 "nbformat_minor": 2
}
