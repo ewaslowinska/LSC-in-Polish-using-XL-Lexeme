{
 "cells": [
  {
   "cell_type": "code",
   "execution_count": 1,
   "metadata": {},
   "outputs": [],
   "source": [
    "import pickle\n",
    "import random"
   ]
  },
  {
   "cell_type": "code",
   "execution_count": 2,
   "metadata": {},
   "outputs": [],
   "source": [
    "with open('C1_lwsf_diction.pickle', 'rb') as f:\n",
    "    C1_lwsf_diction = pickle.load(f)"
   ]
  },
  {
   "cell_type": "code",
   "execution_count": 3,
   "metadata": {},
   "outputs": [],
   "source": [
    "with open('cleared.pickle', 'rb') as f:\n",
    "    cleared = pickle.load(f)"
   ]
  },
  {
   "cell_type": "code",
   "execution_count": 4,
   "metadata": {},
   "outputs": [],
   "source": [
    "C1_valid_lemmas = {}\n",
    "for key, value in C1_lwsf_diction.items():\n",
    "    if key in cleared:\n",
    "        C1_valid_lemmas[key] = value"
   ]
  },
  {
   "cell_type": "code",
   "execution_count": 5,
   "metadata": {},
   "outputs": [],
   "source": [
    "C1_random_sentences = {}\n",
    "for key, value in C1_valid_lemmas.items():\n",
    "    C1_random_sentences[key] = random.sample(value, 25)"
   ]
  },
  {
   "cell_type": "code",
   "execution_count": 6,
   "metadata": {},
   "outputs": [],
   "source": [
    "with open('C1_random_sentences.pickle', 'wb') as file:\n",
    "    pickle.dump(C1_random_sentences, file)"
   ]
  },
  {
   "cell_type": "code",
   "execution_count": 7,
   "metadata": {},
   "outputs": [],
   "source": [
    "with open('C2_lwsf_diction.pickle', 'rb') as f:\n",
    "    C2_lwsf_diction = pickle.load(f)"
   ]
  },
  {
   "cell_type": "code",
   "execution_count": 8,
   "metadata": {},
   "outputs": [],
   "source": [
    "C2_valid_lemmas = {}\n",
    "for key, value in C2_lwsf_diction.items():\n",
    "    if key in cleared:\n",
    "        C2_valid_lemmas[key] = value"
   ]
  },
  {
   "cell_type": "code",
   "execution_count": 9,
   "metadata": {},
   "outputs": [],
   "source": [
    "C2_random_sentences = {}\n",
    "for key, value in C2_valid_lemmas.items():\n",
    "    C2_random_sentences[key] = random.sample(value, 25)"
   ]
  },
  {
   "cell_type": "code",
   "execution_count": 10,
   "metadata": {},
   "outputs": [],
   "source": [
    "with open('C2_random_sentences.pickle', 'wb') as file:\n",
    "    pickle.dump(C2_random_sentences, file)"
   ]
  }
 ],
 "metadata": {
  "kernelspec": {
   "display_name": "Python 3 (ipykernel)",
   "language": "python",
   "name": "python3"
  },
  "orig_nbformat": 4
 },
 "nbformat": 4,
 "nbformat_minor": 2
}
