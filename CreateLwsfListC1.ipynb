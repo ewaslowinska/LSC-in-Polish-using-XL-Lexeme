{
 "cells": [
  {
   "cell_type": "code",
   "execution_count": 1,
   "metadata": {},
   "outputs": [],
   "source": [
    "import re\n",
    "import pickle\n",
    "import os\n",
    "from tqdm import tqdm"
   ]
  },
  {
   "cell_type": "code",
   "execution_count": 2,
   "metadata": {},
   "outputs": [],
   "source": [
    "def lemmaswords(folder):\n",
    "    all = []\n",
    "    total_files = sum(len(files) for _, _, files in os.walk(folder))\n",
    "    with tqdm(total=total_files) as pbar:\n",
    "        for root, dirs, files in os.walk(folder):\n",
    "            for file_name in files:\n",
    "                file_path = os.path.join(root, file_name)\n",
    "                if os.path.isfile(file_path):\n",
    "                    if 'ann_morphosyntax.xml' in file_path:\n",
    "                        with open(file_path, 'r') as f1:\n",
    "                            word = ''\n",
    "                            actualp = False\n",
    "                            preceding = False\n",
    "                            parenthesis = False\n",
    "                            for line in f1:\n",
    "                                if '<seg' in line:\n",
    "                                    seg = re.search(r'segm_(u-[0-9]*.[0-9]*)', line)\n",
    "                                if '<f name=\"orth\">' in line:\n",
    "                                    actualp = True\n",
    "                                elif actualp:\n",
    "                                    word = re.search(r'<string>([A-Za-zżźćńółęąśŻŹĆĄŚĘŁÓŃ()]*)<\\/string>', line)\n",
    "                                    actualp = False\n",
    "                                if '<f name=\"base\">' in line:\n",
    "                                    preceding = True\n",
    "                                elif preceding:\n",
    "                                    lemma = re.search(r'<string>([A-Za-zżźćńółęąśŻŹĆĄŚĘŁÓŃ()]*)<\\/string>', line)\n",
    "                                    if lemma != None:\n",
    "                                        if lemma.group(1) == '(':\n",
    "                                            parenthesis = True\n",
    "                                        elif lemma.group(1) == ')':\n",
    "                                            parenthesis = False\n",
    "                                        elif parenthesis == False:\n",
    "                                            # print(lemma.group(1))\n",
    "                                            if word != None and seg != None:\n",
    "                                                all.append((lemma.group(1), word.group(1), seg.group(1), file_path))\n",
    "                                    preceding = False         \n",
    "                pbar.update(1)\n",
    "    return all"
   ]
  },
  {
   "cell_type": "code",
   "execution_count": 4,
   "metadata": {},
   "outputs": [
    {
     "name": "stderr",
     "output_type": "stream",
     "text": [
      "100%|██████████| 2538/2538 [09:00<00:00,  4.70it/s]\n"
     ]
    }
   ],
   "source": [
    "with open('C1_lwsf_list.pickle', 'wb') as file:\n",
    "    pickle.dump(lemmaswords('files/C1/'), file)"
   ]
  }
 ],
 "metadata": {
  "kernelspec": {
   "display_name": "Python 3 (ipykernel)",
   "language": "python",
   "name": "python3"
  },
  "orig_nbformat": 4
 },
 "nbformat": 4,
 "nbformat_minor": 2
}
