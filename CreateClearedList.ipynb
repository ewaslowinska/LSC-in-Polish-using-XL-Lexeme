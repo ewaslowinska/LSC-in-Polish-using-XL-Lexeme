{
 "cells": [
  {
   "cell_type": "code",
   "execution_count": 3,
   "metadata": {},
   "outputs": [],
   "source": [
    "import pickle\n",
    "import statistics"
   ]
  },
  {
   "cell_type": "code",
   "execution_count": 2,
   "metadata": {},
   "outputs": [],
   "source": [
    "with open('C1_lwsf_diction.pickle', 'rb') as f:\n",
    "    C1_lwsf_diction = pickle.load(f)"
   ]
  },
  {
   "cell_type": "code",
   "execution_count": 3,
   "metadata": {},
   "outputs": [],
   "source": [
    "with open('C2_lwsf_diction.pickle', 'rb') as f1:\n",
    "    C2_lwsf_diction = pickle.load(f1)"
   ]
  },
  {
   "cell_type": "code",
   "execution_count": 4,
   "metadata": {},
   "outputs": [],
   "source": [
    "C1_lemmas_frequency = {}\n",
    "for key, value in C1_lwsf_diction.items():\n",
    "    C1_lemmas_frequency[key] = len(value)"
   ]
  },
  {
   "cell_type": "code",
   "execution_count": 5,
   "metadata": {},
   "outputs": [],
   "source": [
    "C2_lemmas_frequency = {}\n",
    "for key, value in C2_lwsf_diction.items():\n",
    "    C2_lemmas_frequency[key] = len(value)"
   ]
  },
  {
   "cell_type": "code",
   "execution_count": 6,
   "metadata": {},
   "outputs": [],
   "source": [
    "keys = set(C1_lemmas_frequency.keys()) & set(C2_lemmas_frequency.keys())"
   ]
  },
  {
   "cell_type": "code",
   "execution_count": 7,
   "metadata": {},
   "outputs": [],
   "source": [
    "common_lemmas_dictionary = {}\n",
    "for key in keys:\n",
    "    common_lemmas_dictionary[key] = (C1_lemmas_frequency[key], C2_lemmas_frequency[key])"
   ]
  },
  {
   "cell_type": "code",
   "execution_count": 8,
   "metadata": {},
   "outputs": [],
   "source": [
    "new_common_lemmas = {}\n",
    "for key, value in common_lemmas_dictionary.items():\n",
    "    if value[0] > 25 and value[1] > 25:\n",
    "        val = statistics.mean([value[0], value[1]])\n",
    "        new_common_lemmas[key] = val"
   ]
  },
  {
   "cell_type": "code",
   "execution_count": 9,
   "metadata": {},
   "outputs": [],
   "source": [
    "sorted_new_common = sorted(new_common_lemmas.items(), key=lambda x:x[1], reverse=True)\n",
    "cleared = []\n",
    "for item in sorted_new_common[2000:]:\n",
    "    cleared.append(item[0])"
   ]
  },
  {
   "cell_type": "code",
   "execution_count": 10,
   "metadata": {},
   "outputs": [],
   "source": [
    "with open('cleared.pickle', 'wb') as file:\n",
    "    pickle.dump(cleared, file)"
   ]
  }
 ],
 "metadata": {
  "kernelspec": {
   "display_name": "Python 3 (ipykernel)",
   "language": "python",
   "name": "python3"
  },
  "language_info": {
   "codemirror_mode": {
    "name": "ipython",
    "version": 3
   },
   "file_extension": ".py",
   "mimetype": "text/x-python",
   "name": "python",
   "nbconvert_exporter": "python",
   "pygments_lexer": "ipython3",
   "version": "3.9.16"
  },
  "orig_nbformat": 4
 },
 "nbformat": 4,
 "nbformat_minor": 2
}
