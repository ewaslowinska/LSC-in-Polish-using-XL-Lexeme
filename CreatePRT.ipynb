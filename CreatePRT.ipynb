{
 "cells": [
  {
   "cell_type": "code",
   "execution_count": 1,
   "metadata": {},
   "outputs": [],
   "source": [
    "import numpy as np\n",
    "import pickle\n",
    "from tqdm import tqdm"
   ]
  },
  {
   "cell_type": "code",
   "execution_count": 2,
   "metadata": {},
   "outputs": [],
   "source": [
    "def calculate_prototype_distance(input, output):\n",
    "    total_files = sum(len(files) for _, _, files in os.walk(input))\n",
    "    with tqdm(total=total_files) as pbar:\n",
    "        for root, dirs, files in os.walk(input):\n",
    "            for file_name in files:\n",
    "                file_path = os.path.join(root, file_name)\n",
    "                with open(file_path, 'rb') as f:\n",
    "                    embeddings_matrix = pickle.load(f)\n",
    "                    prototypes = np.mean(embeddings_matrix, axis=0)\n",
    "                    with open('{}/{}.pickle'.format(output, os.path.splitext(file_name)[0]), 'wb') as file:\n",
    "                        pickle.dump(prototypes, file)\n",
    "                pbar.update(1)"
   ]
  },
  {
   "cell_type": "code",
   "execution_count": 3,
   "metadata": {},
   "outputs": [
    {
     "name": "stderr",
     "output_type": "stream",
     "text": [
      "100%|██████████| 12869/12869 [00:01<00:00, 8282.60it/s]\n"
     ]
    }
   ],
   "source": [
    "calculate_prototype_distance('embeddingsgood', 'AveragedEmbeddingsgood')"
   ]
  },
  {
   "cell_type": "code",
   "execution_count": 4,
   "metadata": {},
   "outputs": [
    {
     "name": "stderr",
     "output_type": "stream",
     "text": [
      "100%|██████████| 12869/12869 [00:01<00:00, 9091.64it/s]\n"
     ]
    }
   ],
   "source": [
    "calculate_prototype_distance('embeddingsgood1', 'AveragedEmbeddingsgood1')"
   ]
  }
 ],
 "metadata": {
  "kernelspec": {
   "display_name": "Python 3 (ipykernel)",
   "language": "python",
   "name": "python3"
  },
  "orig_nbformat": 4
 },
 "nbformat": 4,
 "nbformat_minor": 2
}
