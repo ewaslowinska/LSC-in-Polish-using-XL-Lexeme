{
 "cells": [
  {
   "cell_type": "code",
   "execution_count": 1,
   "metadata": {},
   "outputs": [],
   "source": [
    "from WordTransformer import WordTransformer, InputExample"
   ]
  },
  {
   "cell_type": "code",
   "execution_count": 2,
   "metadata": {},
   "outputs": [],
   "source": [
    "import json\n",
    "import numpy as np\n",
    "import pickle\n",
    "import os\n",
    "from tqdm import tqdm"
   ]
  },
  {
   "cell_type": "code",
   "execution_count": 3,
   "metadata": {},
   "outputs": [],
   "source": [
    "os.environ[\"CUDA_VISIBLE_DEVICES\"]=\"MIG-4c6deb33-4c3f-5990-89bf-891bd00dac17\""
   ]
  },
  {
   "cell_type": "code",
   "execution_count": 4,
   "metadata": {},
   "outputs": [],
   "source": [
    "model = WordTransformer('pierluigic/xl-lexeme', device='cuda:0')"
   ]
  },
  {
   "cell_type": "code",
   "execution_count": 5,
   "metadata": {},
   "outputs": [],
   "source": [
    "def matrix(input, output):\n",
    "    total_files = sum(len(files) for _, _, files in os.walk(input))\n",
    "    with tqdm(total=total_files) as pbar:\n",
    "        for root, dirs, files in os.walk(input):\n",
    "            for file_name in files:\n",
    "                file_path = os.path.join(root, file_name)\n",
    "                with open(file_path, 'r') as file:\n",
    "                    json_data = file.read()\n",
    "                    json_objects = json.loads(json_data)\n",
    "                    word = []\n",
    "                    for obj in json_objects:\n",
    "                        examples = InputExample(texts=obj['sentence'], positions=[obj['first_index'],obj['last_index']])\n",
    "                        embedding = model.encode(examples)\n",
    "                        word.append(embedding)\n",
    "                    embedding_matrix = np.vstack(word)\n",
    "                    with open('{}/{}.pickle'.format(output, os.path.splitext(file_name)[0]), 'wb') as file:\n",
    "                        pickle.dump(embedding_matrix, file)\n",
    "                pbar.update(1)"
   ]
  },
  {
   "cell_type": "code",
   "execution_count": 6,
   "metadata": {},
   "outputs": [
    {
     "name": "stderr",
     "output_type": "stream",
     "text": [
      "  0%|          | 12/12869 [00:12<1:43:08,  2.08it/s]Token indices sequence length is longer than the specified maximum sequence length for this model (901 > 512). Running this sequence through the model will result in indexing errors\n",
      "100%|██████████| 12869/12869 [1:37:07<00:00,  2.21it/s]\n"
     ]
    }
   ],
   "source": [
    "matrix('../JSONLgood1', '../embeddingsgood1')"
   ]
  },
  {
   "cell_type": "code",
   "execution_count": 19,
   "metadata": {},
   "outputs": [],
   "source": [
    "import pandas as pd\n",
    "from scipy.spatial.distance import cosine\n",
    "from sklearn.metrics.pairwise import cosine_similarity\n",
    "def embeddings(csv):\n",
    "    df = pd.read_csv(csv, sep=';')\n",
    "    df['cosine_distance'] = None\n",
    "    df['cosine_label'] = None\n",
    "    with tqdm(total=df.shape[0]) as pbar:\n",
    "        for index, row in df.iterrows():\n",
    "            sentence_1 = row['sentence_1']\n",
    "            first_index_1 = row['first_index_1']\n",
    "            last_index_1 = row['last_index_1']\n",
    "            sentence_2 = row['sentence_2']\n",
    "            first_index_2 = row['first_index_2']\n",
    "            last_index_2 = row['last_index_2']\n",
    "            example1 = InputExample(texts=sentence_1, positions=[first_index_1, last_index_1])\n",
    "            embedding1 = model.encode(example1)\n",
    "            example2 = InputExample(texts=sentence_2, positions=[first_index_2, last_index_2])\n",
    "            embedding2 = model.encode(example2)\n",
    "            distance = cosine(embedding1, embedding2)\n",
    "            df.at[index, 'cosine_distance'] = distance\n",
    "            if distance > 0.5:\n",
    "                df.at[index, 'cosine_label'] = 1\n",
    "            else:\n",
    "                df.at[index, 'cosine_label'] = 0\n",
    "            pbar.update(1)\n",
    "    return(df)\n"
   ]
  },
  {
   "cell_type": "code",
   "execution_count": 20,
   "metadata": {},
   "outputs": [
    {
     "name": "stderr",
     "output_type": "stream",
     "text": [
      "100%|██████████| 1000/1000 [00:37<00:00, 26.52it/s]\n"
     ]
    }
   ],
   "source": [
    "(embeddings('../annotation.csv')).to_csv('../annotation_with_cosine.csv', index=False)"
   ]
  }
 ],
 "metadata": {
  "kernelspec": {
   "display_name": "Python 3 (ipykernel)",
   "language": "python",
   "name": "python3"
  },
  "language_info": {
   "codemirror_mode": {
    "name": "ipython",
    "version": 3
   },
   "file_extension": ".py",
   "mimetype": "text/x-python",
   "name": "python",
   "nbconvert_exporter": "python",
   "pygments_lexer": "ipython3",
   "version": "3.9.16"
  },
  "orig_nbformat": 4
 },
 "nbformat": 4,
 "nbformat_minor": 2
}
