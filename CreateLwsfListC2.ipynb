{
 "cells": [
  {
   "cell_type": "code",
   "execution_count": 1,
   "metadata": {},
   "outputs": [],
   "source": [
    "import re\n",
    "import pickle\n",
    "import os\n",
    "from tqdm import tqdm"
   ]
  },
  {
   "cell_type": "code",
   "execution_count": 2,
   "metadata": {},
   "outputs": [],
   "source": [
    "p = []\n",
    "for root, _, files in os.walk(\"files/C2\"):\n",
    "    for file_name in files:\n",
    "        file_path = os.path.join(root, file_name)\n",
    "        if \"sejm/posiedzenia/pp\" in file_path and 'ann_morphosyntax.xml' in file_path:\n",
    "            p.append(file_path)"
   ]
  },
  {
   "cell_type": "code",
   "execution_count": 3,
   "metadata": {},
   "outputs": [],
   "source": [
    "def lemmaswords(folder):\n",
    "    all = []\n",
    "    total_files = len(p)\n",
    "    with tqdm(total=total_files) as pbar:\n",
    "        for fff in folder:\n",
    "            if os.path.isfile(fff):\n",
    "                with open(fff, 'r') as f1:\n",
    "                    word = ''\n",
    "                    actualp = False\n",
    "                    preceding = False\n",
    "                    parenthesis = False\n",
    "                    for line in f1:\n",
    "                        if '<seg' in line:\n",
    "                            seg = re.search(r'segm_(u-[0-9]*.[0-9]*)', line)\n",
    "                        if '<f name=\"orth\">' in line:\n",
    "                            actualp = True\n",
    "                        elif actualp:\n",
    "                            word = re.search(r'<string>([A-Za-zżźćńółęąśŻŹĆĄŚĘŁÓŃ()]*)<\\/string>', line)\n",
    "                            actualp = False\n",
    "                        if '<f name=\"base\">' in line:\n",
    "                            preceding = True\n",
    "                        elif preceding:\n",
    "                            lemma = re.search(r'<string>([A-Za-zżźćńółęąśŻŹĆĄŚĘŁÓŃ()]*)<\\/string>', line)\n",
    "                            if lemma != None:\n",
    "                                if lemma.group(1) == '(':\n",
    "                                    parenthesis = True\n",
    "                                elif lemma.group(1) == ')':\n",
    "                                    parenthesis = False\n",
    "                                elif parenthesis == False:\n",
    "                                     if word != None and seg != None:\n",
    "                                        all.append((lemma.group(1), word.group(1), seg.group(1), fff))\n",
    "                            preceding = False\n",
    "            pbar.update(1)\n",
    "    return all"
   ]
  },
  {
   "cell_type": "code",
   "execution_count": 4,
   "metadata": {},
   "outputs": [
    {
     "name": "stderr",
     "output_type": "stream",
     "text": [
      "100%|██████████| 2130/2130 [41:10<00:00,  1.16s/it] \n"
     ]
    }
   ],
   "source": [
    "with open('C2_lwsf_list.pickle', 'wb') as file:\n",
    "    pickle.dump(lemmaswords(p), file)"
   ]
  }
 ],
 "metadata": {
  "kernelspec": {
   "display_name": "Python 3 (ipykernel)",
   "language": "python",
   "name": "python3"
  },
  "language_info": {
   "codemirror_mode": {
    "name": "ipython",
    "version": 3
   },
   "file_extension": ".py",
   "mimetype": "text/x-python",
   "name": "python",
   "nbconvert_exporter": "python",
   "pygments_lexer": "ipython3",
   "version": "3.9.16"
  },
  "orig_nbformat": 4
 },
 "nbformat": 4,
 "nbformat_minor": 2
}
