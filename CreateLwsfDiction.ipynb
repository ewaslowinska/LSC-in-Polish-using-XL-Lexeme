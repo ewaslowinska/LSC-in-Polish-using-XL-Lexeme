{
 "cells": [
  {
   "cell_type": "code",
   "execution_count": 1,
   "metadata": {},
   "outputs": [],
   "source": [
    "import pickle"
   ]
  },
  {
   "cell_type": "code",
   "execution_count": 2,
   "metadata": {},
   "outputs": [],
   "source": [
    "with open('C1_lwsf_list.pickle', 'rb') as f:\n",
    "    C1_lwsf_list = pickle.load(f)"
   ]
  },
  {
   "cell_type": "code",
   "execution_count": 3,
   "metadata": {},
   "outputs": [],
   "source": [
    "diction = {}\n",
    "for item in C1_lwsf_list:\n",
    "    if item[0] not in diction:\n",
    "        diction[item[0]] = [(item[1], item[2], item[3])]\n",
    "    else:\n",
    "        diction[item[0]].append((item[1], item[2], item[3]))"
   ]
  },
  {
   "cell_type": "code",
   "execution_count": 4,
   "metadata": {},
   "outputs": [],
   "source": [
    "with open('C1_lwsf_diction.pickle', 'wb') as file:\n",
    "    pickle.dump(diction, file)"
   ]
  },
  {
   "cell_type": "code",
   "execution_count": 5,
   "metadata": {},
   "outputs": [],
   "source": [
    "with open('C2_lwsf_list.pickle', 'rb') as f:\n",
    "    C2_lwsf_list = pickle.load(f)"
   ]
  },
  {
   "cell_type": "code",
   "execution_count": 6,
   "metadata": {},
   "outputs": [],
   "source": [
    "diction = {}\n",
    "for item in C2_lwsf_list:\n",
    "    if item[0] not in diction:\n",
    "        diction[item[0]] = [(item[1], item[2], item[3])]\n",
    "    else:\n",
    "        diction[item[0]].append((item[1], item[2], item[3]))"
   ]
  },
  {
   "cell_type": "code",
   "execution_count": 7,
   "metadata": {},
   "outputs": [],
   "source": [
    "with open('C2_lwsf_diction.pickle', 'wb') as file:\n",
    "    pickle.dump(diction, file)"
   ]
  }
 ],
 "metadata": {
  "kernelspec": {
   "display_name": "Python 3 (ipykernel)",
   "language": "python",
   "name": "python3"
  },
  "language_info": {
   "codemirror_mode": {
    "name": "ipython",
    "version": 3
   },
   "file_extension": ".py",
   "mimetype": "text/x-python",
   "name": "python",
   "nbconvert_exporter": "python",
   "pygments_lexer": "ipython3",
   "version": "3.9.16"
  },
  "orig_nbformat": 4
 },
 "nbformat": 4,
 "nbformat_minor": 2
}
